{
 "cells": [
  {
   "cell_type": "code",
   "execution_count": null,
   "id": "bc4c7bdf",
   "metadata": {},
   "outputs": [],
   "source": [
    "Que.1 What are escape characters, and how do you use them?\n",
    "\n",
    "ANS-  An escape character is a blackslash(\\) followed by the character you want to escape.\n",
    "      some of the escape characters used in python are:--\n",
    "      \n",
    "      \\'  #to insert apostrophe\n",
    "      \\\\  # for single backslash\n",
    "      \\n  # for new line\n",
    "      \\b  #backspace\n",
    "      \\t  #tab\n",
    "      "
   ]
  },
  {
   "cell_type": "code",
   "execution_count": 13,
   "id": "f77cb3ee",
   "metadata": {},
   "outputs": [
    {
     "name": "stdout",
     "output_type": "stream",
     "text": [
      "it's ok\n"
     ]
    }
   ],
   "source": [
    "s = 'it\\'s ok'  #it will give an error in absence of (\\)\n",
    "print(s)\n",
    "\n"
   ]
  },
  {
   "cell_type": "code",
   "execution_count": null,
   "id": "a3194ee0",
   "metadata": {},
   "outputs": [],
   "source": [
    "Que.2 What do the escape characters n and t stands for?\n",
    "\n",
    "ANS-  \\n is a new line escape character which helps in printing characters after (\\n) in the new line.\n",
    "\n",
    "      \\t is tab escape character which puts a space in characters "
   ]
  },
  {
   "cell_type": "code",
   "execution_count": 10,
   "id": "bf53a0dc",
   "metadata": {},
   "outputs": [
    {
     "name": "stdout",
     "output_type": "stream",
     "text": [
      "hello \n",
      "world\n"
     ]
    }
   ],
   "source": [
    "n = \"hello \\nworld\" #it will print the word after (\\n) in the new line\n",
    "print(n)"
   ]
  },
  {
   "cell_type": "code",
   "execution_count": 12,
   "id": "87f7d1f5",
   "metadata": {},
   "outputs": [
    {
     "name": "stdout",
     "output_type": "stream",
     "text": [
      "hello\tWorld\n"
     ]
    }
   ],
   "source": [
    "t = \"hello\\tWorld\"\n",
    "print(t)"
   ]
  },
  {
   "cell_type": "code",
   "execution_count": null,
   "id": "873d1bc6",
   "metadata": {},
   "outputs": [],
   "source": [
    "Que. 3 What is the way to include backslash characters in a string?\n",
    "\n",
    "ANS-  we can introduce backslash in a string simply by putting 2 backslashes(\\\\) in between the string.\n",
    "      It will print one backslash in the string.\n",
    "      "
   ]
  },
  {
   "cell_type": "code",
   "execution_count": 15,
   "id": "253a6a5f",
   "metadata": {},
   "outputs": [
    {
     "name": "stdout",
     "output_type": "stream",
     "text": [
      "ineuron\\fullstack\\datascience\\course\n"
     ]
    }
   ],
   "source": [
    "d = \"ineuron\\\\fullstack\\\\datascience\\\\course\"\n",
    "print(d)"
   ]
  },
  {
   "cell_type": "code",
   "execution_count": null,
   "id": "5ac2a599",
   "metadata": {},
   "outputs": [],
   "source": [
    "Que. 4 The string \"Howl's Moving Castle\" is a correct value. Why isn't the single quote character in the word Howl's\n",
    "       escaped a problem?\n",
    "       \n",
    "ANS-   since we are using double quotes(\") in the string the single quote character apostrophe(') has not given any\n",
    "       error.\n",
    "       Had we enclosed the string with a single quote ('')  and erroe would have occured.\n",
    "       though we can rectify this problem by using a backslash(\\) before the apostrophe."
   ]
  },
  {
   "cell_type": "code",
   "execution_count": null,
   "id": "d93c4d23",
   "metadata": {},
   "outputs": [],
   "source": [
    "Que. 5 How do you write a string of newlines if you don't want to use n character?\n",
    "\n",
    "ANS-  By using os module  - os.linesep  we can write a string in 2 different lines.              "
   ]
  },
  {
   "cell_type": "code",
   "execution_count": 20,
   "id": "f16d7b03",
   "metadata": {},
   "outputs": [
    {
     "name": "stdout",
     "output_type": "stream",
     "text": [
      "hello\r\n",
      "world\n"
     ]
    }
   ],
   "source": [
    "import os \n",
    "k = \"hello\"+os.linesep+ \"world\"\n",
    "print(k)"
   ]
  },
  {
   "cell_type": "code",
   "execution_count": null,
   "id": "1337cd2e",
   "metadata": {},
   "outputs": [],
   "source": [
    "Que. 6  What are the values of the given expression?\n",
    "        'Hello,world!'[1]\n",
    "        'Hello,world!'[0:5]\n",
    "        'Hello,world!'[:5]\n",
    "        'Hello,world![3:]"
   ]
  },
  {
   "cell_type": "code",
   "execution_count": 21,
   "id": "4984f890",
   "metadata": {},
   "outputs": [
    {
     "name": "stdout",
     "output_type": "stream",
     "text": [
      "e\n"
     ]
    }
   ],
   "source": [
    "string = 'Hello,world!'\n",
    "print(string[1])"
   ]
  },
  {
   "cell_type": "code",
   "execution_count": 23,
   "id": "8b1e6d04",
   "metadata": {},
   "outputs": [
    {
     "name": "stdout",
     "output_type": "stream",
     "text": [
      "Hello\n"
     ]
    }
   ],
   "source": [
    "print(string[0:5])"
   ]
  },
  {
   "cell_type": "code",
   "execution_count": 25,
   "id": "aa2d9728",
   "metadata": {},
   "outputs": [
    {
     "name": "stdout",
     "output_type": "stream",
     "text": [
      "Hello\n"
     ]
    }
   ],
   "source": [
    "print(string[:5])"
   ]
  },
  {
   "cell_type": "code",
   "execution_count": 27,
   "id": "a656e9cc",
   "metadata": {},
   "outputs": [
    {
     "name": "stdout",
     "output_type": "stream",
     "text": [
      "lo,world!\n"
     ]
    }
   ],
   "source": [
    "print(string[3:])"
   ]
  },
  {
   "cell_type": "code",
   "execution_count": null,
   "id": "8451b8e9",
   "metadata": {},
   "outputs": [],
   "source": [
    "Que. 7 What are the values of the following expressions?\n",
    "       'Hello'.upper()\n",
    "       'Hello'.upper().isupper()\n",
    "       'Hello'.upper().lower()"
   ]
  },
  {
   "cell_type": "code",
   "execution_count": 29,
   "id": "036f6aaf",
   "metadata": {},
   "outputs": [
    {
     "data": {
      "text/plain": [
       "'HELLO'"
      ]
     },
     "execution_count": 29,
     "metadata": {},
     "output_type": "execute_result"
    }
   ],
   "source": [
    "'Hello'.upper()"
   ]
  },
  {
   "cell_type": "code",
   "execution_count": 32,
   "id": "edca2052",
   "metadata": {},
   "outputs": [
    {
     "data": {
      "text/plain": [
       "True"
      ]
     },
     "execution_count": 32,
     "metadata": {},
     "output_type": "execute_result"
    }
   ],
   "source": [
    "'Hello'.upper().isupper()"
   ]
  },
  {
   "cell_type": "code",
   "execution_count": 34,
   "id": "bd1b19a4",
   "metadata": {},
   "outputs": [
    {
     "data": {
      "text/plain": [
       "'hello'"
      ]
     },
     "execution_count": 34,
     "metadata": {},
     "output_type": "execute_result"
    }
   ],
   "source": [
    "'Hello'.upper().lower()"
   ]
  },
  {
   "cell_type": "code",
   "execution_count": null,
   "id": "59c21fdc",
   "metadata": {},
   "outputs": [],
   "source": [
    "Que. 8 What are the values of the following expressions?\n",
    "       'Remember,remember,the fifth of July.'.split()\n",
    "       '-'.join('There can only one.'split())"
   ]
  },
  {
   "cell_type": "code",
   "execution_count": 36,
   "id": "5d19c286",
   "metadata": {},
   "outputs": [
    {
     "data": {
      "text/plain": [
       "['Remember,remember,the', 'fifth', 'of', 'July.']"
      ]
     },
     "execution_count": 36,
     "metadata": {},
     "output_type": "execute_result"
    }
   ],
   "source": [
    "'Remember,remember,the fifth of July.'.split()"
   ]
  },
  {
   "cell_type": "code",
   "execution_count": 38,
   "id": "3f8ecf50",
   "metadata": {},
   "outputs": [
    {
     "data": {
      "text/plain": [
       "'There-can-only-one.'"
      ]
     },
     "execution_count": 38,
     "metadata": {},
     "output_type": "execute_result"
    }
   ],
   "source": [
    "'-'.join('There can only one.'.split())"
   ]
  },
  {
   "cell_type": "code",
   "execution_count": null,
   "id": "bbebb9c6",
   "metadata": {},
   "outputs": [],
   "source": [
    "Que. 9 What are the methods for right-justifying, left-justifying and centering a string?\n",
    "\n",
    "ANS-  For Right-justifying we use string.rjust(width,chr), it shifts the string towards the right side depending on width.\n",
    "      \n",
    "      For Left-justifying we use string.ljust(width,chr), it shifts the string towards the left.\n",
    "      \n",
    "      and for centering of string we use center(width,chr) for center aligned string.\n",
    "      \n",
    "      \n",
    "      here, \n",
    "      width- the represents the value by which we want to move the string\n",
    "      chr(optional)- the character to fill in the remaining space\n",
    "      \n",
    "      \n",
    "      "
   ]
  },
  {
   "cell_type": "code",
   "execution_count": 44,
   "id": "9dfe3941",
   "metadata": {},
   "outputs": [
    {
     "data": {
      "text/plain": [
       "'**********************ineuron'"
      ]
     },
     "execution_count": 44,
     "metadata": {},
     "output_type": "execute_result"
    }
   ],
   "source": [
    "s = \"ineuron\"\n",
    "\n",
    "s.rjust(29,'*')"
   ]
  },
  {
   "cell_type": "code",
   "execution_count": 46,
   "id": "3f0be3ef",
   "metadata": {},
   "outputs": [
    {
     "data": {
      "text/plain": [
       "'ineuron**********************'"
      ]
     },
     "execution_count": 46,
     "metadata": {},
     "output_type": "execute_result"
    }
   ],
   "source": [
    "s.ljust(29,'*')"
   ]
  },
  {
   "cell_type": "code",
   "execution_count": 49,
   "id": "b33ea518",
   "metadata": {},
   "outputs": [
    {
     "data": {
      "text/plain": [
       "'           ineuron           '"
      ]
     },
     "execution_count": 49,
     "metadata": {},
     "output_type": "execute_result"
    }
   ],
   "source": [
    "s.center(29)"
   ]
  },
  {
   "cell_type": "code",
   "execution_count": null,
   "id": "5b3c5901",
   "metadata": {},
   "outputs": [],
   "source": [
    "Que.10  What is the best way to remove whitespace characters from the start or end?\n",
    "\n",
    "ANS-   To remove whitespace characters from the start we use - lstrip()\n",
    "                          & to remove it from the end we use - rstrip()"
   ]
  },
  {
   "cell_type": "code",
   "execution_count": 51,
   "id": "52883247",
   "metadata": {},
   "outputs": [
    {
     "data": {
      "text/plain": [
       "'ineuron#####'"
      ]
     },
     "execution_count": 51,
     "metadata": {},
     "output_type": "execute_result"
    }
   ],
   "source": [
    "s1 = '#####ineuron#####'\n",
    "\n",
    "s1.lstrip('#')"
   ]
  },
  {
   "cell_type": "code",
   "execution_count": 52,
   "id": "709e5c22",
   "metadata": {},
   "outputs": [
    {
     "data": {
      "text/plain": [
       "'#####ineuron'"
      ]
     },
     "execution_count": 52,
     "metadata": {},
     "output_type": "execute_result"
    }
   ],
   "source": [
    "s1.rstrip('#')"
   ]
  }
 ],
 "metadata": {
  "kernelspec": {
   "display_name": "Python 3 (ipykernel)",
   "language": "python",
   "name": "python3"
  },
  "language_info": {
   "codemirror_mode": {
    "name": "ipython",
    "version": 3
   },
   "file_extension": ".py",
   "mimetype": "text/x-python",
   "name": "python",
   "nbconvert_exporter": "python",
   "pygments_lexer": "ipython3",
   "version": "3.9.7"
  }
 },
 "nbformat": 4,
 "nbformat_minor": 5
}
